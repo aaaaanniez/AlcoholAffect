{
 "cells": [
  {
   "cell_type": "markdown",
   "id": "b9f4a888-a135-4c19-a9c3-2fe7344e6d6a",
   "metadata": {},
   "source": [
    "#STAT 201 Project Proposal"
   ]
  },
  {
   "cell_type": "markdown",
   "id": "5c0c2791-1689-4b74-b132-f73fe5acd8bf",
   "metadata": {},
   "source": [
    "Introduction"
   ]
  },
  {
   "cell_type": "markdown",
   "id": "13df389b-357b-47a1-9496-d8b8925bc815",
   "metadata": {},
   "source": [
    "There has been considerable debate regarding the effects of prominent alcohol use on academic/educational performance, such as GPA and academic average. While it is quite challenging to create a direct causal link between the two variables, those within academics have attempted to obtain metrics ultimately related to academic performance. Research from the American Economist Journal has suggested that drinking in high school positively correlates with absenteeism rates (Austin, 2012). Furthermore, regarding the relationship between absenteeism and academic performance, findings presented by the American Educational Research Association indicate that \"overall absences are negatively associated with academic achievement\" (Klein et al., 2022). Taking these previously denoted findings into account, our group has set out to answer the following research question: does the level of secondary school alcohol consumption affect the amount of school absenteeism? To conduct this research, we will utilize a dataset from Kaggle that examines students' academic and socioeconomic attributes across two Portuguese secondary schools. The data set includes the following information that will be utilized in our research (Chauhan, 2022): \n",
    "- Workday alcohol consumption (Dalc)\n",
    "- Weekend alcohol consumption (Walc)\n",
    "- Number of school absences (absences)\n"
   ]
  },
  {
   "cell_type": "code",
   "execution_count": 3,
   "id": "a819d29a-3f87-40be-8902-140e46e030e9",
   "metadata": {},
   "outputs": [
    {
     "name": "stderr",
     "output_type": "stream",
     "text": [
      "\u001b[1mRows: \u001b[22m\u001b[34m395\u001b[39m \u001b[1mColumns: \u001b[22m\u001b[34m33\u001b[39m\n",
      "\u001b[36m──\u001b[39m \u001b[1mColumn specification\u001b[22m \u001b[36m────────────────────────────────────────────────────────\u001b[39m\n",
      "\u001b[1mDelimiter:\u001b[22m \",\"\n",
      "\u001b[31mchr\u001b[39m (17): school, sex, address, famsize, Pstatus, Mjob, Fjob, reason, guardi...\n",
      "\u001b[32mdbl\u001b[39m (16): age, Medu, Fedu, traveltime, studytime, failures, famrel, freetime...\n",
      "\n",
      "\u001b[36mℹ\u001b[39m Use `spec()` to retrieve the full column specification for this data.\n",
      "\u001b[36mℹ\u001b[39m Specify the column types or set `show_col_types = FALSE` to quiet this message.\n"
     ]
    },
    {
     "data": {
      "text/html": [
       "<table class=\"dataframe\">\n",
       "<caption>A tibble: 6 × 3</caption>\n",
       "<thead>\n",
       "\t<tr><th scope=col>workday_ac</th><th scope=col>weekend_ac</th><th scope=col>absences</th></tr>\n",
       "\t<tr><th scope=col>&lt;dbl&gt;</th><th scope=col>&lt;dbl&gt;</th><th scope=col>&lt;dbl&gt;</th></tr>\n",
       "</thead>\n",
       "<tbody>\n",
       "\t<tr><td>1</td><td>1</td><td> 6</td></tr>\n",
       "\t<tr><td>1</td><td>1</td><td> 4</td></tr>\n",
       "\t<tr><td>2</td><td>3</td><td>10</td></tr>\n",
       "\t<tr><td>1</td><td>1</td><td> 2</td></tr>\n",
       "\t<tr><td>1</td><td>2</td><td> 4</td></tr>\n",
       "\t<tr><td>1</td><td>2</td><td>10</td></tr>\n",
       "</tbody>\n",
       "</table>\n"
      ],
      "text/latex": [
       "A tibble: 6 × 3\n",
       "\\begin{tabular}{lll}\n",
       " workday\\_ac & weekend\\_ac & absences\\\\\n",
       " <dbl> & <dbl> & <dbl>\\\\\n",
       "\\hline\n",
       "\t 1 & 1 &  6\\\\\n",
       "\t 1 & 1 &  4\\\\\n",
       "\t 2 & 3 & 10\\\\\n",
       "\t 1 & 1 &  2\\\\\n",
       "\t 1 & 2 &  4\\\\\n",
       "\t 1 & 2 & 10\\\\\n",
       "\\end{tabular}\n"
      ],
      "text/markdown": [
       "\n",
       "A tibble: 6 × 3\n",
       "\n",
       "| workday_ac &lt;dbl&gt; | weekend_ac &lt;dbl&gt; | absences &lt;dbl&gt; |\n",
       "|---|---|---|\n",
       "| 1 | 1 |  6 |\n",
       "| 1 | 1 |  4 |\n",
       "| 2 | 3 | 10 |\n",
       "| 1 | 1 |  2 |\n",
       "| 1 | 2 |  4 |\n",
       "| 1 | 2 | 10 |\n",
       "\n"
      ],
      "text/plain": [
       "  workday_ac weekend_ac absences\n",
       "1 1          1           6      \n",
       "2 1          1           4      \n",
       "3 2          3          10      \n",
       "4 1          1           2      \n",
       "5 1          2           4      \n",
       "6 1          2          10      "
      ]
     },
     "metadata": {},
     "output_type": "display_data"
    }
   ],
   "source": [
    "library(cowplot)\n",
    "library(datateachr)\n",
    "library(digest)\n",
    "library(infer)\n",
    "library(repr)\n",
    "library(tidyverse)\n",
    "library(dplyr)\n",
    "\n",
    "alcohol_data <- read_csv(\"https://raw.githubusercontent.com/riddhibattu/STAT201/main/Maths.csv\") %>%\n",
    "mutate(workday_ac = Dalc) %>%\n",
    "mutate(weekend_ac = Walc) %>%\n",
    "select('workday_ac', 'weekend_ac', 'absences') \n",
    "\n",
    "head(alcohol_data)"
   ]
  },
  {
   "cell_type": "code",
   "execution_count": null,
   "id": "e0398cf4-9b42-4012-ac78-2d73d2e5bbd5",
   "metadata": {},
   "outputs": [],
   "source": []
  }
 ],
 "metadata": {
  "kernelspec": {
   "display_name": "R",
   "language": "R",
   "name": "ir"
  },
  "language_info": {
   "codemirror_mode": "r",
   "file_extension": ".r",
   "mimetype": "text/x-r-source",
   "name": "R",
   "pygments_lexer": "r",
   "version": "4.1.3"
  }
 },
 "nbformat": 4,
 "nbformat_minor": 5
}
