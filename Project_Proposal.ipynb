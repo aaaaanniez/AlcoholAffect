{
 "cells": [
  {
   "cell_type": "markdown",
   "id": "b9f4a888-a135-4c19-a9c3-2fe7344e6d6a",
   "metadata": {},
   "source": [
    "#STAT 201 Project Proposal"
   ]
  },
  {
   "cell_type": "markdown",
   "id": "5c0c2791-1689-4b74-b132-f73fe5acd8bf",
   "metadata": {},
   "source": [
    "##Introduction"
   ]
  },
  {
   "cell_type": "markdown",
   "id": "13df389b-357b-47a1-9496-d8b8925bc815",
   "metadata": {},
   "source": [
    "There has been considerable debate regarding the effects of prominent alcohol use on academic/educational performance, such as GPA and academic average. While it is quite challenging to create a direct causal link between the two variables, those within academics have attempted to obtain metrics ultimately related to academic performance. Research from the American Economist Journal has suggested that drinking in high school positively correlates with absenteeism rates (Austin, 2012). Furthermore, regarding the relationship between absenteeism and academic performance, findings presented by the American Educational Research Association indicate that \"overall absences are negatively associated with academic achievement\" (Klein et al., 2022). Taking these previously denoted findings into account, our group has set out to answer the following research question: does the level of secondary school alcohol consumption affect the amount of school absenteeism? To conduct this research, we will utilize a dataset from Kaggle that examines students' academic and socioeconomic attributes across two Portuguese secondary schools (\"https://raw.githubusercontent.com/riddhibattu/STAT201/main/Maths.csv\"). The data set includes the following information that will be utilized in our research (Chauhan, 2022): \n",
    "- Student's school (binary: 'GP' - Gabriel Pereira or 'MS' - Mousinho da Silveira)\n",
    "- Workday alcohol consumption (Dalc)\n",
    "- Weekend alcohol consumption (Walc)\n",
    "- Number of school absences (absences)\n",
    "\n"
   ]
  },
  {
   "cell_type": "markdown",
   "id": "86c28db1-03c1-40b3-b548-ac00d710b283",
   "metadata": {},
   "source": [
    "In this case, the level of workday alcohol consumption and weekend alcohol consumption, scaled from 1-5 (from 1 - very low to 5 - very high), will serve as our response variable, and the number of school absences will subsequently serve as our explanatory variable. We will use the mean of our response variable as the parameter and standard deviation as the scale parameter. Considering that the data at hand only measures these variables across two schools in Portugal, in addition to the requirements of the assignment, our group will conduct a bootstrap sampling distribution using the data to generate a sampling distribution to mimic the population distribution of all schools in Portugal. Finally, hypothesis testing will be conducted to answer the aforementioned research question. Our null hypothesis is that there is no relationship between alcohol consumption among secondary school students and the rate of school absences. In contrast to this, our alternative hypothesis, as suggested by findings from the American Economist Journal (Austin, 2012), is that increased alcohol consumption among secondary school students will result in increased school absences. "
   ]
  },
  {
   "cell_type": "markdown",
   "id": "6904be64-5f1a-4575-9199-84557b63694b",
   "metadata": {},
   "source": [
    "##Preliminary Results"
   ]
  },
  {
   "cell_type": "markdown",
   "id": "2787f7b0-2899-4b72-a903-a5bfc7fcae4c",
   "metadata": {},
   "source": [
    "We can read the dataset into R using Librarys and read_csv. Then, we clean the data by choosing the columes we are interested and filter out any NA rows. We also change colume Dalc to workday_ac and colume Walc to weekend_ac to make the data more clear."
   ]
  },
  {
   "cell_type": "code",
   "execution_count": 1,
   "id": "a819d29a-3f87-40be-8902-140e46e030e9",
   "metadata": {},
   "outputs": [
    {
     "name": "stderr",
     "output_type": "stream",
     "text": [
      "── \u001b[1mAttaching packages\u001b[22m ─────────────────────────────────────── tidyverse 1.3.2 ──\n",
      "\u001b[32m✔\u001b[39m \u001b[34mggplot2\u001b[39m 3.3.6      \u001b[32m✔\u001b[39m \u001b[34mpurrr  \u001b[39m 0.3.4 \n",
      "\u001b[32m✔\u001b[39m \u001b[34mtibble \u001b[39m 3.1.8      \u001b[32m✔\u001b[39m \u001b[34mdplyr  \u001b[39m 1.0.10\n",
      "\u001b[32m✔\u001b[39m \u001b[34mtidyr  \u001b[39m 1.2.1      \u001b[32m✔\u001b[39m \u001b[34mstringr\u001b[39m 1.4.1 \n",
      "\u001b[32m✔\u001b[39m \u001b[34mreadr  \u001b[39m 2.1.2      \u001b[32m✔\u001b[39m \u001b[34mforcats\u001b[39m 0.5.2 \n",
      "── \u001b[1mConflicts\u001b[22m ────────────────────────────────────────── tidyverse_conflicts() ──\n",
      "\u001b[31m✖\u001b[39m \u001b[34mdplyr\u001b[39m::\u001b[32mfilter()\u001b[39m masks \u001b[34mstats\u001b[39m::filter()\n",
      "\u001b[31m✖\u001b[39m \u001b[34mdplyr\u001b[39m::\u001b[32mlag()\u001b[39m    masks \u001b[34mstats\u001b[39m::lag()\n",
      "\u001b[1mRows: \u001b[22m\u001b[34m395\u001b[39m \u001b[1mColumns: \u001b[22m\u001b[34m33\u001b[39m\n",
      "\u001b[36m──\u001b[39m \u001b[1mColumn specification\u001b[22m \u001b[36m────────────────────────────────────────────────────────\u001b[39m\n",
      "\u001b[1mDelimiter:\u001b[22m \",\"\n",
      "\u001b[31mchr\u001b[39m (17): school, sex, address, famsize, Pstatus, Mjob, Fjob, reason, guardi...\n",
      "\u001b[32mdbl\u001b[39m (16): age, Medu, Fedu, traveltime, studytime, failures, famrel, freetime...\n",
      "\n",
      "\u001b[36mℹ\u001b[39m Use `spec()` to retrieve the full column specification for this data.\n",
      "\u001b[36mℹ\u001b[39m Specify the column types or set `show_col_types = FALSE` to quiet this message.\n"
     ]
    },
    {
     "data": {
      "text/html": [
       "<table class=\"dataframe\">\n",
       "<caption>A tibble: 6 × 33</caption>\n",
       "<thead>\n",
       "\t<tr><th scope=col>school</th><th scope=col>sex</th><th scope=col>age</th><th scope=col>address</th><th scope=col>famsize</th><th scope=col>Pstatus</th><th scope=col>Medu</th><th scope=col>Fedu</th><th scope=col>Mjob</th><th scope=col>Fjob</th><th scope=col>⋯</th><th scope=col>famrel</th><th scope=col>freetime</th><th scope=col>goout</th><th scope=col>Dalc</th><th scope=col>Walc</th><th scope=col>health</th><th scope=col>absences</th><th scope=col>G1</th><th scope=col>G2</th><th scope=col>G3</th></tr>\n",
       "\t<tr><th scope=col>&lt;chr&gt;</th><th scope=col>&lt;chr&gt;</th><th scope=col>&lt;dbl&gt;</th><th scope=col>&lt;chr&gt;</th><th scope=col>&lt;chr&gt;</th><th scope=col>&lt;chr&gt;</th><th scope=col>&lt;dbl&gt;</th><th scope=col>&lt;dbl&gt;</th><th scope=col>&lt;chr&gt;</th><th scope=col>&lt;chr&gt;</th><th scope=col>⋯</th><th scope=col>&lt;dbl&gt;</th><th scope=col>&lt;dbl&gt;</th><th scope=col>&lt;dbl&gt;</th><th scope=col>&lt;dbl&gt;</th><th scope=col>&lt;dbl&gt;</th><th scope=col>&lt;dbl&gt;</th><th scope=col>&lt;dbl&gt;</th><th scope=col>&lt;dbl&gt;</th><th scope=col>&lt;dbl&gt;</th><th scope=col>&lt;dbl&gt;</th></tr>\n",
       "</thead>\n",
       "<tbody>\n",
       "\t<tr><td>GP</td><td>F</td><td>18</td><td>U</td><td>GT3</td><td>A</td><td>4</td><td>4</td><td>at_home </td><td>teacher </td><td>⋯</td><td>4</td><td>3</td><td>4</td><td>1</td><td>1</td><td>3</td><td> 6</td><td> 5</td><td> 6</td><td> 6</td></tr>\n",
       "\t<tr><td>GP</td><td>F</td><td>17</td><td>U</td><td>GT3</td><td>T</td><td>1</td><td>1</td><td>at_home </td><td>other   </td><td>⋯</td><td>5</td><td>3</td><td>3</td><td>1</td><td>1</td><td>3</td><td> 4</td><td> 5</td><td> 5</td><td> 6</td></tr>\n",
       "\t<tr><td>GP</td><td>F</td><td>15</td><td>U</td><td>LE3</td><td>T</td><td>1</td><td>1</td><td>at_home </td><td>other   </td><td>⋯</td><td>4</td><td>3</td><td>2</td><td>2</td><td>3</td><td>3</td><td>10</td><td> 7</td><td> 8</td><td>10</td></tr>\n",
       "\t<tr><td>GP</td><td>F</td><td>15</td><td>U</td><td>GT3</td><td>T</td><td>4</td><td>2</td><td>health  </td><td>services</td><td>⋯</td><td>3</td><td>2</td><td>2</td><td>1</td><td>1</td><td>5</td><td> 2</td><td>15</td><td>14</td><td>15</td></tr>\n",
       "\t<tr><td>GP</td><td>F</td><td>16</td><td>U</td><td>GT3</td><td>T</td><td>3</td><td>3</td><td>other   </td><td>other   </td><td>⋯</td><td>4</td><td>3</td><td>2</td><td>1</td><td>2</td><td>5</td><td> 4</td><td> 6</td><td>10</td><td>10</td></tr>\n",
       "\t<tr><td>GP</td><td>M</td><td>16</td><td>U</td><td>LE3</td><td>T</td><td>4</td><td>3</td><td>services</td><td>other   </td><td>⋯</td><td>5</td><td>4</td><td>2</td><td>1</td><td>2</td><td>5</td><td>10</td><td>15</td><td>15</td><td>15</td></tr>\n",
       "</tbody>\n",
       "</table>\n"
      ],
      "text/latex": [
       "A tibble: 6 × 33\n",
       "\\begin{tabular}{lllllllllllllllllllll}\n",
       " school & sex & age & address & famsize & Pstatus & Medu & Fedu & Mjob & Fjob & ⋯ & famrel & freetime & goout & Dalc & Walc & health & absences & G1 & G2 & G3\\\\\n",
       " <chr> & <chr> & <dbl> & <chr> & <chr> & <chr> & <dbl> & <dbl> & <chr> & <chr> & ⋯ & <dbl> & <dbl> & <dbl> & <dbl> & <dbl> & <dbl> & <dbl> & <dbl> & <dbl> & <dbl>\\\\\n",
       "\\hline\n",
       "\t GP & F & 18 & U & GT3 & A & 4 & 4 & at\\_home  & teacher  & ⋯ & 4 & 3 & 4 & 1 & 1 & 3 &  6 &  5 &  6 &  6\\\\\n",
       "\t GP & F & 17 & U & GT3 & T & 1 & 1 & at\\_home  & other    & ⋯ & 5 & 3 & 3 & 1 & 1 & 3 &  4 &  5 &  5 &  6\\\\\n",
       "\t GP & F & 15 & U & LE3 & T & 1 & 1 & at\\_home  & other    & ⋯ & 4 & 3 & 2 & 2 & 3 & 3 & 10 &  7 &  8 & 10\\\\\n",
       "\t GP & F & 15 & U & GT3 & T & 4 & 2 & health   & services & ⋯ & 3 & 2 & 2 & 1 & 1 & 5 &  2 & 15 & 14 & 15\\\\\n",
       "\t GP & F & 16 & U & GT3 & T & 3 & 3 & other    & other    & ⋯ & 4 & 3 & 2 & 1 & 2 & 5 &  4 &  6 & 10 & 10\\\\\n",
       "\t GP & M & 16 & U & LE3 & T & 4 & 3 & services & other    & ⋯ & 5 & 4 & 2 & 1 & 2 & 5 & 10 & 15 & 15 & 15\\\\\n",
       "\\end{tabular}\n"
      ],
      "text/markdown": [
       "\n",
       "A tibble: 6 × 33\n",
       "\n",
       "| school &lt;chr&gt; | sex &lt;chr&gt; | age &lt;dbl&gt; | address &lt;chr&gt; | famsize &lt;chr&gt; | Pstatus &lt;chr&gt; | Medu &lt;dbl&gt; | Fedu &lt;dbl&gt; | Mjob &lt;chr&gt; | Fjob &lt;chr&gt; | ⋯ ⋯ | famrel &lt;dbl&gt; | freetime &lt;dbl&gt; | goout &lt;dbl&gt; | Dalc &lt;dbl&gt; | Walc &lt;dbl&gt; | health &lt;dbl&gt; | absences &lt;dbl&gt; | G1 &lt;dbl&gt; | G2 &lt;dbl&gt; | G3 &lt;dbl&gt; |\n",
       "|---|---|---|---|---|---|---|---|---|---|---|---|---|---|---|---|---|---|---|---|---|\n",
       "| GP | F | 18 | U | GT3 | A | 4 | 4 | at_home  | teacher  | ⋯ | 4 | 3 | 4 | 1 | 1 | 3 |  6 |  5 |  6 |  6 |\n",
       "| GP | F | 17 | U | GT3 | T | 1 | 1 | at_home  | other    | ⋯ | 5 | 3 | 3 | 1 | 1 | 3 |  4 |  5 |  5 |  6 |\n",
       "| GP | F | 15 | U | LE3 | T | 1 | 1 | at_home  | other    | ⋯ | 4 | 3 | 2 | 2 | 3 | 3 | 10 |  7 |  8 | 10 |\n",
       "| GP | F | 15 | U | GT3 | T | 4 | 2 | health   | services | ⋯ | 3 | 2 | 2 | 1 | 1 | 5 |  2 | 15 | 14 | 15 |\n",
       "| GP | F | 16 | U | GT3 | T | 3 | 3 | other    | other    | ⋯ | 4 | 3 | 2 | 1 | 2 | 5 |  4 |  6 | 10 | 10 |\n",
       "| GP | M | 16 | U | LE3 | T | 4 | 3 | services | other    | ⋯ | 5 | 4 | 2 | 1 | 2 | 5 | 10 | 15 | 15 | 15 |\n",
       "\n"
      ],
      "text/plain": [
       "  school sex age address famsize Pstatus Medu Fedu Mjob     Fjob     ⋯ famrel\n",
       "1 GP     F   18  U       GT3     A       4    4    at_home  teacher  ⋯ 4     \n",
       "2 GP     F   17  U       GT3     T       1    1    at_home  other    ⋯ 5     \n",
       "3 GP     F   15  U       LE3     T       1    1    at_home  other    ⋯ 4     \n",
       "4 GP     F   15  U       GT3     T       4    2    health   services ⋯ 3     \n",
       "5 GP     F   16  U       GT3     T       3    3    other    other    ⋯ 4     \n",
       "6 GP     M   16  U       LE3     T       4    3    services other    ⋯ 5     \n",
       "  freetime goout Dalc Walc health absences G1 G2 G3\n",
       "1 3        4     1    1    3       6        5  6  6\n",
       "2 3        3     1    1    3       4        5  5  6\n",
       "3 3        2     2    3    3      10        7  8 10\n",
       "4 2        2     1    1    5       2       15 14 15\n",
       "5 3        2     1    2    5       4        6 10 10\n",
       "6 4        2     1    2    5      10       15 15 15"
      ]
     },
     "metadata": {},
     "output_type": "display_data"
    }
   ],
   "source": [
    "library(cowplot)\n",
    "library(datateachr)\n",
    "library(digest)\n",
    "library(infer)\n",
    "library(repr)\n",
    "library(tidyverse)\n",
    "library(dplyr)\n",
    "\n",
    "alcohol_data <- read_csv(\"https://raw.githubusercontent.com/riddhibattu/STAT201/main/Maths.csv\") \n",
    "\n",
    "head(alcohol_data)"
   ]
  },
  {
   "cell_type": "code",
   "execution_count": 4,
   "id": "e6824ed9-b08a-42d6-980c-9a3a75df1880",
   "metadata": {},
   "outputs": [
    {
     "data": {
      "text/html": [
       "<table class=\"dataframe\">\n",
       "<caption>A tibble: 6 × 4</caption>\n",
       "<thead>\n",
       "\t<tr><th scope=col>school</th><th scope=col>workday_ac</th><th scope=col>weekend_ac</th><th scope=col>absences</th></tr>\n",
       "\t<tr><th scope=col>&lt;chr&gt;</th><th scope=col>&lt;dbl&gt;</th><th scope=col>&lt;dbl&gt;</th><th scope=col>&lt;dbl&gt;</th></tr>\n",
       "</thead>\n",
       "<tbody>\n",
       "\t<tr><td>GP</td><td>1</td><td>1</td><td> 6</td></tr>\n",
       "\t<tr><td>GP</td><td>1</td><td>1</td><td> 4</td></tr>\n",
       "\t<tr><td>GP</td><td>2</td><td>3</td><td>10</td></tr>\n",
       "\t<tr><td>GP</td><td>1</td><td>1</td><td> 2</td></tr>\n",
       "\t<tr><td>GP</td><td>1</td><td>2</td><td> 4</td></tr>\n",
       "\t<tr><td>GP</td><td>1</td><td>2</td><td>10</td></tr>\n",
       "</tbody>\n",
       "</table>\n"
      ],
      "text/latex": [
       "A tibble: 6 × 4\n",
       "\\begin{tabular}{llll}\n",
       " school & workday\\_ac & weekend\\_ac & absences\\\\\n",
       " <chr> & <dbl> & <dbl> & <dbl>\\\\\n",
       "\\hline\n",
       "\t GP & 1 & 1 &  6\\\\\n",
       "\t GP & 1 & 1 &  4\\\\\n",
       "\t GP & 2 & 3 & 10\\\\\n",
       "\t GP & 1 & 1 &  2\\\\\n",
       "\t GP & 1 & 2 &  4\\\\\n",
       "\t GP & 1 & 2 & 10\\\\\n",
       "\\end{tabular}\n"
      ],
      "text/markdown": [
       "\n",
       "A tibble: 6 × 4\n",
       "\n",
       "| school &lt;chr&gt; | workday_ac &lt;dbl&gt; | weekend_ac &lt;dbl&gt; | absences &lt;dbl&gt; |\n",
       "|---|---|---|---|\n",
       "| GP | 1 | 1 |  6 |\n",
       "| GP | 1 | 1 |  4 |\n",
       "| GP | 2 | 3 | 10 |\n",
       "| GP | 1 | 1 |  2 |\n",
       "| GP | 1 | 2 |  4 |\n",
       "| GP | 1 | 2 | 10 |\n",
       "\n"
      ],
      "text/plain": [
       "  school workday_ac weekend_ac absences\n",
       "1 GP     1          1           6      \n",
       "2 GP     1          1           4      \n",
       "3 GP     2          3          10      \n",
       "4 GP     1          1           2      \n",
       "5 GP     1          2           4      \n",
       "6 GP     1          2          10      "
      ]
     },
     "metadata": {},
     "output_type": "display_data"
    }
   ],
   "source": [
    "#choosing the columes we will be working with and drop empty rows\n",
    "alcohol_data_clean <- alcohol_data %>%\n",
    "mutate(workday_ac = Dalc) %>%\n",
    "mutate(weekend_ac = Walc) %>%\n",
    "select('school','workday_ac', 'weekend_ac', 'absences') %>%\n",
    "drop_na()\n",
    "head(alcohol_data_clean)"
   ]
  },
  {
   "cell_type": "markdown",
   "id": "dd0133f3-0416-471d-a046-d8137d4e3541",
   "metadata": {},
   "source": [
    "#Methods"
   ]
  },
  {
   "cell_type": "markdown",
   "id": "c8d5dd07-f076-4a62-b12b-4347ea92781e",
   "metadata": {},
   "source": [
    "We are using the dataset from UCI Machine Learning Repository, a trustworthy source for datasets. In this project, we will use both bootstrap methods to resample for the null distribution: the absence of students who consume minimum alcohol. Then, we will use an asymptotic approach to calculate the 95% confidence interval for the mean. We can use an asymptotic approach because the size of our data is large enough, the samples are taken independently, and the estimator used is random.\n",
    "\n",
    "In this project, we expect to use the hypothesis test to find if there is a correlation between alcohol consumption and student attendance. The purpose of this project is to help students to find out if there is such a correlation. If yes, students can refer to the result for a better work-life balance plan. In the future, we can test if there is a correlation between student attendance and academic success to investigate further the correlation between drinking and students’ academic performance.\n",
    "\n"
   ]
  },
  {
   "cell_type": "markdown",
   "id": "d85db819-fe9e-4566-a171-768e9a73591a",
   "metadata": {},
   "source": [
    "#Reference"
   ]
  },
  {
   "cell_type": "markdown",
   "id": "02b66838-e0ba-431e-82b4-42d658507a7d",
   "metadata": {},
   "source": [
    "Austin, W. A. (2012). THE EFFECTS OF ALCOHOL USE ON HIGH SCHOOL ABSENTEEISM. \n",
    "    American Economist, 57(2), 238-252. \n",
    "    Retrieved from https://www.proquest.com/scholarly-journals/effects-alcohol-use-on-high-school-absenteeism/docview/1113789486/se-2\n",
    "\n",
    "Chauhan, A. (2022, September 15). Alcohol effects on study. Kaggle. \n",
    "    Retrieved November 4, 2022, from https://www.kaggle.com/datasets/whenamancodes/alcohol-effects-on-study \n",
    "\n",
    "Klein, M., Sosu, E. M., & Dare, S. (2022). School Absenteeism and Academic Achievement: Does the Reason for Absence Matter? \n",
    "    AERA Open, 8. https://doi.org/10.1177/23328584211071115\n",
    "\n"
   ]
  },
  {
   "cell_type": "code",
   "execution_count": null,
   "id": "1fc6abe1-f4f1-4fe3-97a8-cc4199c899d3",
   "metadata": {},
   "outputs": [],
   "source": []
  }
 ],
 "metadata": {
  "kernelspec": {
   "display_name": "R",
   "language": "R",
   "name": "ir"
  },
  "language_info": {
   "codemirror_mode": "r",
   "file_extension": ".r",
   "mimetype": "text/x-r-source",
   "name": "R",
   "pygments_lexer": "r",
   "version": "4.1.3"
  }
 },
 "nbformat": 4,
 "nbformat_minor": 5
}
